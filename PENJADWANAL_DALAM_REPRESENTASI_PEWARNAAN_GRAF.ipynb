{
  "nbformat": 4,
  "nbformat_minor": 0,
  "metadata": {
    "colab": {
      "provenance": [],
      "authorship_tag": "ABX9TyPSPOYL68qfAd6LoZCzRrb/",
      "include_colab_link": true
    },
    "kernelspec": {
      "name": "python3",
      "display_name": "Python 3"
    },
    "language_info": {
      "name": "python"
    }
  },
  "cells": [
    {
      "cell_type": "markdown",
      "metadata": {
        "id": "view-in-github",
        "colab_type": "text"
      },
      "source": [
        "<a href=\"https://colab.research.google.com/github/rainayatullah/sceduling-and-graph-coloring/blob/main/PENJADWANAL_DALAM_REPRESENTASI_PEWARNAAN_GRAF.ipynb\" target=\"_parent\"><img src=\"https://colab.research.google.com/assets/colab-badge.svg\" alt=\"Open In Colab\"/></a>"
      ]
    },
    {
      "cell_type": "markdown",
      "source": [
        "# PENJADWANAL DALAM REPRESENTASI PEWARNAAN GRAF\n",
        "(soal didapat dari situs http://rizkimuliono.blog.uma.ac.id/wp-content/uploads/sites/365/2017/10/PEWARNAAN_graph.pdf halaman 11 s.d. 13)"
      ],
      "metadata": {
        "id": "6BUpGBf2Bboe"
      }
    },
    {
      "cell_type": "markdown",
      "source": [
        "## Package yang digunakan"
      ],
      "metadata": {
        "id": "tB9j8Bn0CF1T"
      }
    },
    {
      "cell_type": "code",
      "source": [
        "import pandas as pd\n",
        "import networkx as nx"
      ],
      "metadata": {
        "id": "WSFuAYqXey9G"
      },
      "execution_count": 156,
      "outputs": []
    },
    {
      "cell_type": "markdown",
      "source": [
        "## Jawaban\n",
        "\n",
        "Tabel pada soal tersebut dimasukkan ke dalam pemrograman python sebagai berikut."
      ],
      "metadata": {
        "id": "UxogdYiVCOrJ"
      }
    },
    {
      "cell_type": "code",
      "execution_count": 155,
      "metadata": {
        "colab": {
          "base_uri": "https://localhost:8080/",
          "height": 206
        },
        "id": "7Fay6x0HHpjU",
        "outputId": "bf945760-9556-48f7-8c30-174acacb6f59"
      },
      "outputs": [
        {
          "output_type": "execute_result",
          "data": {
            "text/plain": [
              "    M1  M2  M3  M4  M5  M6  M7  M8\n",
              "S1   0   0   0   1   0   0   1   0\n",
              "S2   1   1   0   1   1   0   0   0\n",
              "S3   0   0   1   0   0   1   1   1\n",
              "S4   0   1   1   0   1   1   0   1\n",
              "S5   1   0   0   0   0   0   0   0"
            ],
            "text/html": [
              "\n",
              "  <div id=\"df-95dbf1aa-775c-408f-ad75-2abf85e1b3ec\">\n",
              "    <div class=\"colab-df-container\">\n",
              "      <div>\n",
              "<style scoped>\n",
              "    .dataframe tbody tr th:only-of-type {\n",
              "        vertical-align: middle;\n",
              "    }\n",
              "\n",
              "    .dataframe tbody tr th {\n",
              "        vertical-align: top;\n",
              "    }\n",
              "\n",
              "    .dataframe thead th {\n",
              "        text-align: right;\n",
              "    }\n",
              "</style>\n",
              "<table border=\"1\" class=\"dataframe\">\n",
              "  <thead>\n",
              "    <tr style=\"text-align: right;\">\n",
              "      <th></th>\n",
              "      <th>M1</th>\n",
              "      <th>M2</th>\n",
              "      <th>M3</th>\n",
              "      <th>M4</th>\n",
              "      <th>M5</th>\n",
              "      <th>M6</th>\n",
              "      <th>M7</th>\n",
              "      <th>M8</th>\n",
              "    </tr>\n",
              "  </thead>\n",
              "  <tbody>\n",
              "    <tr>\n",
              "      <th>S1</th>\n",
              "      <td>0</td>\n",
              "      <td>0</td>\n",
              "      <td>0</td>\n",
              "      <td>1</td>\n",
              "      <td>0</td>\n",
              "      <td>0</td>\n",
              "      <td>1</td>\n",
              "      <td>0</td>\n",
              "    </tr>\n",
              "    <tr>\n",
              "      <th>S2</th>\n",
              "      <td>1</td>\n",
              "      <td>1</td>\n",
              "      <td>0</td>\n",
              "      <td>1</td>\n",
              "      <td>1</td>\n",
              "      <td>0</td>\n",
              "      <td>0</td>\n",
              "      <td>0</td>\n",
              "    </tr>\n",
              "    <tr>\n",
              "      <th>S3</th>\n",
              "      <td>0</td>\n",
              "      <td>0</td>\n",
              "      <td>1</td>\n",
              "      <td>0</td>\n",
              "      <td>0</td>\n",
              "      <td>1</td>\n",
              "      <td>1</td>\n",
              "      <td>1</td>\n",
              "    </tr>\n",
              "    <tr>\n",
              "      <th>S4</th>\n",
              "      <td>0</td>\n",
              "      <td>1</td>\n",
              "      <td>1</td>\n",
              "      <td>0</td>\n",
              "      <td>1</td>\n",
              "      <td>1</td>\n",
              "      <td>0</td>\n",
              "      <td>1</td>\n",
              "    </tr>\n",
              "    <tr>\n",
              "      <th>S5</th>\n",
              "      <td>1</td>\n",
              "      <td>0</td>\n",
              "      <td>0</td>\n",
              "      <td>0</td>\n",
              "      <td>0</td>\n",
              "      <td>0</td>\n",
              "      <td>0</td>\n",
              "      <td>0</td>\n",
              "    </tr>\n",
              "  </tbody>\n",
              "</table>\n",
              "</div>\n",
              "      <button class=\"colab-df-convert\" onclick=\"convertToInteractive('df-95dbf1aa-775c-408f-ad75-2abf85e1b3ec')\"\n",
              "              title=\"Convert this dataframe to an interactive table.\"\n",
              "              style=\"display:none;\">\n",
              "        \n",
              "  <svg xmlns=\"http://www.w3.org/2000/svg\" height=\"24px\"viewBox=\"0 0 24 24\"\n",
              "       width=\"24px\">\n",
              "    <path d=\"M0 0h24v24H0V0z\" fill=\"none\"/>\n",
              "    <path d=\"M18.56 5.44l.94 2.06.94-2.06 2.06-.94-2.06-.94-.94-2.06-.94 2.06-2.06.94zm-11 1L8.5 8.5l.94-2.06 2.06-.94-2.06-.94L8.5 2.5l-.94 2.06-2.06.94zm10 10l.94 2.06.94-2.06 2.06-.94-2.06-.94-.94-2.06-.94 2.06-2.06.94z\"/><path d=\"M17.41 7.96l-1.37-1.37c-.4-.4-.92-.59-1.43-.59-.52 0-1.04.2-1.43.59L10.3 9.45l-7.72 7.72c-.78.78-.78 2.05 0 2.83L4 21.41c.39.39.9.59 1.41.59.51 0 1.02-.2 1.41-.59l7.78-7.78 2.81-2.81c.8-.78.8-2.07 0-2.86zM5.41 20L4 18.59l7.72-7.72 1.47 1.35L5.41 20z\"/>\n",
              "  </svg>\n",
              "      </button>\n",
              "      \n",
              "  <style>\n",
              "    .colab-df-container {\n",
              "      display:flex;\n",
              "      flex-wrap:wrap;\n",
              "      gap: 12px;\n",
              "    }\n",
              "\n",
              "    .colab-df-convert {\n",
              "      background-color: #E8F0FE;\n",
              "      border: none;\n",
              "      border-radius: 50%;\n",
              "      cursor: pointer;\n",
              "      display: none;\n",
              "      fill: #1967D2;\n",
              "      height: 32px;\n",
              "      padding: 0 0 0 0;\n",
              "      width: 32px;\n",
              "    }\n",
              "\n",
              "    .colab-df-convert:hover {\n",
              "      background-color: #E2EBFA;\n",
              "      box-shadow: 0px 1px 2px rgba(60, 64, 67, 0.3), 0px 1px 3px 1px rgba(60, 64, 67, 0.15);\n",
              "      fill: #174EA6;\n",
              "    }\n",
              "\n",
              "    [theme=dark] .colab-df-convert {\n",
              "      background-color: #3B4455;\n",
              "      fill: #D2E3FC;\n",
              "    }\n",
              "\n",
              "    [theme=dark] .colab-df-convert:hover {\n",
              "      background-color: #434B5C;\n",
              "      box-shadow: 0px 1px 3px 1px rgba(0, 0, 0, 0.15);\n",
              "      filter: drop-shadow(0px 1px 2px rgba(0, 0, 0, 0.3));\n",
              "      fill: #FFFFFF;\n",
              "    }\n",
              "  </style>\n",
              "\n",
              "      <script>\n",
              "        const buttonEl =\n",
              "          document.querySelector('#df-95dbf1aa-775c-408f-ad75-2abf85e1b3ec button.colab-df-convert');\n",
              "        buttonEl.style.display =\n",
              "          google.colab.kernel.accessAllowed ? 'block' : 'none';\n",
              "\n",
              "        async function convertToInteractive(key) {\n",
              "          const element = document.querySelector('#df-95dbf1aa-775c-408f-ad75-2abf85e1b3ec');\n",
              "          const dataTable =\n",
              "            await google.colab.kernel.invokeFunction('convertToInteractive',\n",
              "                                                     [key], {});\n",
              "          if (!dataTable) return;\n",
              "\n",
              "          const docLinkHtml = 'Like what you see? Visit the ' +\n",
              "            '<a target=\"_blank\" href=https://colab.research.google.com/notebooks/data_table.ipynb>data table notebook</a>'\n",
              "            + ' to learn more about interactive tables.';\n",
              "          element.innerHTML = '';\n",
              "          dataTable['output_type'] = 'display_data';\n",
              "          await google.colab.output.renderOutput(dataTable, element);\n",
              "          const docLink = document.createElement('div');\n",
              "          docLink.innerHTML = docLinkHtml;\n",
              "          element.appendChild(docLink);\n",
              "        }\n",
              "      </script>\n",
              "    </div>\n",
              "  </div>\n",
              "  "
            ]
          },
          "metadata": {},
          "execution_count": 155
        }
      ],
      "source": [
        "jadwal=pd.read_csv('https://raw.githubusercontent.com/rainayatullah/sceduling-and-graph-coloring/main/coloring.csv',sep=';',index_col=0)\n",
        "jadwal"
      ]
    },
    {
      "cell_type": "markdown",
      "source": [
        "Dari tabel tersebut, dibuatkan dalam representasi graf. Adapun langkah-langkah yang dilakukan adalah sebagai berikut.\n",
        "\n",
        "\n",
        "1.   Buat list mahasiswa berdasarkan tabel. List mahasiswa merupakan nama kolom dari tabel yang telah dibuat.\n",
        "2.   Pilih mata mata kuliah (baris yang bernilai 1 pada kolom yang bersesuaian) yang diambil oleh mahasiswa. Mata kuliah inilah yang digunakan sebagai simpul.\n",
        "3.   Hubungkan simpul-simpul pada langkah 2. Inilah yang digunakan sebagai sisi.\n",
        "4.   Ulangi langkah 2 sampai semua list mahasiswa pada langkah 1 terpilih semua.\n",
        "\n",
        "Hasil graf yang dibuat adalah sebagai berikut."
      ],
      "metadata": {
        "id": "Ckutk1UOC4J6"
      }
    },
    {
      "cell_type": "code",
      "source": [
        "grap=nx.Graph()\n",
        "for i in jadwal.columns:\n",
        "  simpul=(jadwal[i].loc[jadwal[i]==1]).index\n",
        "  sisi=[(simpul[i],simpul[i+1]) for i in range(len(simpul)-1)]\n",
        "  grap.add_nodes_from(simpul)\n",
        "  grap.add_edges_from(sisi)\n",
        "nx.draw(grap,with_labels=True)"
      ],
      "metadata": {
        "colab": {
          "base_uri": "https://localhost:8080/",
          "height": 319
        },
        "id": "OKJ4gWuRZEEH",
        "outputId": "c03ac26f-496d-4a50-eb7f-330c42fa6501"
      },
      "execution_count": 153,
      "outputs": [
        {
          "output_type": "display_data",
          "data": {
            "text/plain": [
              "<Figure size 432x288 with 1 Axes>"
            ],
            "image/png": "[encoded data removed]"
          },
          "metadata": {}
        }
      ]
    },
    {
      "cell_type": "markdown",
      "source": [
        "Untuk pewarnaan Graf, digunakan Algoritma Welch –\n",
        "Powell, dengan langkah – langkah sebagai berikut :\n",
        "1.   Urutkan titik – titik dari Graf dalam derajat menurun,\n",
        "$ d(V_1) \\geq d(V_2)\\geq...\\geq d(V_n)$\n",
        "2.   Gunakan warna pertama (I) untuk mewarnai titik pertama (yang mempunyai derajat tertinggi $V_1$ dan titik yang tidak bertetangga dengan $V_1$.\n",
        "3.   Gunakan warna ke dua (II) untuk mewarnai titik dengan derajat tertinggi berikutnya.\n",
        "4.   Ulangi penambahan warna – warna sampai semua titik terwarnai.\n",
        "\n",
        "Algoritma Welch – Powell telah dibuat dan dikembangkan dalam pemrograman python dalam modul / package networkx. berikut perintah yang digunakan beserta representasi pewarnaan graf yang dilakukan."
      ],
      "metadata": {
        "id": "2JjzHvsAGWnu"
      }
    },
    {
      "cell_type": "code",
      "source": [
        "pewarnaan=nx.coloring.greedy_color(grap, strategy=\"largest_first\")\n",
        "warna=['red' if pewarnaan[i] == 1 else 'blue' for i in grap.nodes]\n",
        "nx.draw(grap,with_labels=True,node_color=warna)"
      ],
      "metadata": {
        "colab": {
          "base_uri": "https://localhost:8080/",
          "height": 319
        },
        "id": "gSE-SPZrAQXh",
        "outputId": "7a9ae69a-22db-4bae-b061-6a190a5dc920"
      },
      "execution_count": 154,
      "outputs": [
        {
          "output_type": "display_data",
          "data": {
            "text/plain": [
              "<Figure size 432x288 with 1 Axes>"
            ],
            "image/png": "[encoded data removed]"
          },
          "metadata": {}
        }
      ]
    }
  ]
}